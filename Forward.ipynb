{
 "cells": [
  {
   "cell_type": "code",
   "execution_count": null,
   "metadata": {},
   "outputs": [],
   "source": [
    "class ForwardFunction:\n",
    "    #float w 　重みとしきい値\n",
    "    #float e 　入力のデータセット\n",
    "    def forward(*w, *e):\n",
    "        float u   #入力値\n",
    "        float o   #出力値\n",
    "        u= 0   #入力値の初期化\n",
    "        float threshold    #しきい値\n",
    "        for i, j in zip(*w, *e):\n",
    "            u=u+i*j\n",
    "            threshold=i    #しきい値はリストwの最後の値\n",
    "        u=u-threshold     #しきい値の処理\n",
    "        o = f(u)\n",
    "        return o"
   ]
  },
  {
   "cell_type": "code",
   "execution_count": null,
   "metadata": {},
   "outputs": [],
   "source": []
  }
 ],
 "metadata": {
  "kernelspec": {
   "display_name": "Python 3",
   "language": "python",
   "name": "python3"
  },
  "language_info": {
   "codemirror_mode": {
    "name": "ipython",
    "version": 3
   },
   "file_extension": ".py",
   "mimetype": "text/x-python",
   "name": "python",
   "nbconvert_exporter": "python",
   "pygments_lexer": "ipython3",
   "version": "3.7.4"
  }
 },
 "nbformat": 4,
 "nbformat_minor": 2
}
